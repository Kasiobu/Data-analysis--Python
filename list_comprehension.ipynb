{
 "cells": [
  {
   "cell_type": "code",
   "execution_count": 1,
   "id": "3aa03c76-3c7f-4111-aab9-bf1e9a5a742b",
   "metadata": {},
   "outputs": [],
   "source": [
    "# FOR LOOPS WITH APPEND METHOD: it could be time consuming\n",
    "import pandas as pd\n",
    "import numpy as np\n",
    "\n",
    "# create dataframe\n",
    "set1 = {\"name\":[\"kasiobu\",\"Konadu\", \"Obi\", \"ruth\", \"Bob\"],\n",
    "       \"age\": [24, 40, 29, 19, 51]}\n",
    "df = pd.DataFrame(set1)"
   ]
  },
  {
   "cell_type": "markdown",
   "id": "8b03ed7c-8dbc-4046-a046-665497ed8df1",
   "metadata": {},
   "source": [
    "### LOOPS"
   ]
  },
  {
   "cell_type": "code",
   "execution_count": 2,
   "id": "57c26a83-12bc-446c-a740-6f343fdc53a4",
   "metadata": {
    "tags": []
   },
   "outputs": [
    {
     "name": "stdout",
     "output_type": "stream",
     "text": [
      "['Kasiobu', 'Konadu', 'Obi', 'Ruth', 'Bob']\n"
     ]
    }
   ],
   "source": [
    "# Using loops with append method\n",
    "name = df.name\n",
    "new_name = []\n",
    "\n",
    "for n in name:\n",
    "    if n.islower():\n",
    "        n = n.capitalize()\n",
    "    else:\n",
    "        n = n.capitalize()\n",
    "    new_name.append(n)\n",
    "    \n",
    "name = new_name\n",
    "print(name)"
   ]
  },
  {
   "cell_type": "code",
   "execution_count": 3,
   "id": "c2c7ed06-4f84-4531-a6ef-7a29db484798",
   "metadata": {
    "tags": []
   },
   "outputs": [
    {
     "name": "stdout",
     "output_type": "stream",
     "text": [
      "['KASIOBU', 'KONADU', 'OBI', 'RUTH', 'BOB']\n"
     ]
    }
   ],
   "source": [
    "# FOR LOOPS\n",
    "\n",
    "# assign the value in the name column of the dataset to name\n",
    "name = df.name\n",
    "\n",
    "# store the new names here\n",
    "new_name = []\n",
    "\n",
    "# for each row in the column name\n",
    "for i in name:\n",
    "    # convert each character to uppercase\n",
    "    i = i.upper()\n",
    "    # add the newly data to new_name\n",
    "    new_name.append(i)\n",
    "# name is equal to new_name    \n",
    "name = new_name\n",
    "#print the function\n",
    "print(name)"
   ]
  },
  {
   "cell_type": "markdown",
   "id": "83aaa33b-d390-4cad-a98e-701584151d01",
   "metadata": {},
   "source": [
    "#### LIST COMPREHENSION METHOD"
   ]
  },
  {
   "cell_type": "code",
   "execution_count": 4,
   "id": "40211fa1-b3be-4140-a446-6a977c2ca253",
   "metadata": {},
   "outputs": [
    {
     "data": {
      "text/html": [
       "<div>\n",
       "<style scoped>\n",
       "    .dataframe tbody tr th:only-of-type {\n",
       "        vertical-align: middle;\n",
       "    }\n",
       "\n",
       "    .dataframe tbody tr th {\n",
       "        vertical-align: top;\n",
       "    }\n",
       "\n",
       "    .dataframe thead th {\n",
       "        text-align: right;\n",
       "    }\n",
       "</style>\n",
       "<table border=\"1\" class=\"dataframe\">\n",
       "  <thead>\n",
       "    <tr style=\"text-align: right;\">\n",
       "      <th></th>\n",
       "      <th>name</th>\n",
       "      <th>age</th>\n",
       "      <th>Cap_Name</th>\n",
       "    </tr>\n",
       "  </thead>\n",
       "  <tbody>\n",
       "    <tr>\n",
       "      <th>0</th>\n",
       "      <td>kasiobu</td>\n",
       "      <td>24</td>\n",
       "      <td>KASIOBU</td>\n",
       "    </tr>\n",
       "    <tr>\n",
       "      <th>1</th>\n",
       "      <td>Konadu</td>\n",
       "      <td>40</td>\n",
       "      <td>KONADU</td>\n",
       "    </tr>\n",
       "    <tr>\n",
       "      <th>2</th>\n",
       "      <td>Obi</td>\n",
       "      <td>29</td>\n",
       "      <td>OBI</td>\n",
       "    </tr>\n",
       "    <tr>\n",
       "      <th>3</th>\n",
       "      <td>ruth</td>\n",
       "      <td>19</td>\n",
       "      <td>RUTH</td>\n",
       "    </tr>\n",
       "    <tr>\n",
       "      <th>4</th>\n",
       "      <td>Bob</td>\n",
       "      <td>51</td>\n",
       "      <td>BOB</td>\n",
       "    </tr>\n",
       "  </tbody>\n",
       "</table>\n",
       "</div>"
      ],
      "text/plain": [
       "      name  age Cap_Name\n",
       "0  kasiobu   24  KASIOBU\n",
       "1   Konadu   40   KONADU\n",
       "2      Obi   29      OBI\n",
       "3     ruth   19     RUTH\n",
       "4      Bob   51      BOB"
      ]
     },
     "execution_count": 4,
     "metadata": {},
     "output_type": "execute_result"
    }
   ],
   "source": [
    "# LIST COMPREHENSION METHOD:\n",
    "names = df.name\n",
    "nem = [name.upper() for name in names]\n",
    "\n",
    "#print(nem)\n",
    "\n",
    "#print table and add a new column with the new name in \"nem\"\n",
    "df['Cap_Name'] = pd.Series(nem)\n",
    "df"
   ]
  },
  {
   "cell_type": "markdown",
   "id": "17fc9f00-d19b-43a3-8178-9a49201d0fc8",
   "metadata": {},
   "source": [
    "#### CONDITIONAL STATEMENT (Boolean) vs LOOPS"
   ]
  },
  {
   "cell_type": "code",
   "execution_count": 5,
   "id": "bd77c961-98f6-4681-b239-b632a7a6cd85",
   "metadata": {},
   "outputs": [],
   "source": [
    "# USING APPEND METHOD\n",
    "\n",
    "set2 = {\"name\":[\"Kasiobu\",\"Konadu\", \"Obi\", \"Ruth\", \"Bob\"],\n",
    "       \"age\": [24, 40, 29, 17, 51],\n",
    "       \"answer\":[True, True, False, False, False]}\n",
    "\n",
    "dfbool = pd.DataFrame(set2)"
   ]
  },
  {
   "cell_type": "code",
   "execution_count": 6,
   "id": "010df235-3da9-496f-a6ab-6a30a27289f0",
   "metadata": {},
   "outputs": [],
   "source": [
    "#\n",
    "answers = dfbool.answer\n",
    "new_ans = []\n",
    "\n",
    "for b in answers:\n",
    "    if b == True:\n",
    "        new_ans.append(1) \n",
    "    else:\n",
    "        new_ans.append(0)\n",
    "\n",
    "# print(new_ans)\n",
    "dfbool['new_ans'] = pd.Series(new_ans)\n",
    "#dfbool"
   ]
  },
  {
   "cell_type": "code",
   "execution_count": 7,
   "id": "0756615e-1942-4b4d-9244-1e9ebea68747",
   "metadata": {},
   "outputs": [
    {
     "data": {
      "text/plain": [
       "[1, 1, 0, 0, 0]"
      ]
     },
     "execution_count": 7,
     "metadata": {},
     "output_type": "execute_result"
    }
   ],
   "source": [
    "# # USING LIST COMPREHENSION METHOD FOR BOOLEAN \n",
    "new_answers = [1 if a == True else 0 for a in dfbool.answer]\n",
    "new_answers"
   ]
  },
  {
   "cell_type": "code",
   "execution_count": 8,
   "id": "9bf7769c-f5ab-4d3e-bf76-416498f4d415",
   "metadata": {},
   "outputs": [
    {
     "data": {
      "text/html": [
       "<div>\n",
       "<style scoped>\n",
       "    .dataframe tbody tr th:only-of-type {\n",
       "        vertical-align: middle;\n",
       "    }\n",
       "\n",
       "    .dataframe tbody tr th {\n",
       "        vertical-align: top;\n",
       "    }\n",
       "\n",
       "    .dataframe thead th {\n",
       "        text-align: right;\n",
       "    }\n",
       "</style>\n",
       "<table border=\"1\" class=\"dataframe\">\n",
       "  <thead>\n",
       "    <tr style=\"text-align: right;\">\n",
       "      <th></th>\n",
       "      <th>name</th>\n",
       "      <th>age</th>\n",
       "      <th>answer</th>\n",
       "      <th>new_ans</th>\n",
       "      <th>age_group</th>\n",
       "    </tr>\n",
       "  </thead>\n",
       "  <tbody>\n",
       "    <tr>\n",
       "      <th>0</th>\n",
       "      <td>Kasiobu</td>\n",
       "      <td>24</td>\n",
       "      <td>True</td>\n",
       "      <td>1</td>\n",
       "      <td>youth</td>\n",
       "    </tr>\n",
       "    <tr>\n",
       "      <th>1</th>\n",
       "      <td>Konadu</td>\n",
       "      <td>40</td>\n",
       "      <td>True</td>\n",
       "      <td>1</td>\n",
       "      <td>adult</td>\n",
       "    </tr>\n",
       "    <tr>\n",
       "      <th>2</th>\n",
       "      <td>Obi</td>\n",
       "      <td>29</td>\n",
       "      <td>False</td>\n",
       "      <td>0</td>\n",
       "      <td>youth</td>\n",
       "    </tr>\n",
       "    <tr>\n",
       "      <th>3</th>\n",
       "      <td>Ruth</td>\n",
       "      <td>17</td>\n",
       "      <td>False</td>\n",
       "      <td>0</td>\n",
       "      <td>teenager</td>\n",
       "    </tr>\n",
       "    <tr>\n",
       "      <th>4</th>\n",
       "      <td>Bob</td>\n",
       "      <td>51</td>\n",
       "      <td>False</td>\n",
       "      <td>0</td>\n",
       "      <td>adult</td>\n",
       "    </tr>\n",
       "  </tbody>\n",
       "</table>\n",
       "</div>"
      ],
      "text/plain": [
       "      name  age  answer  new_ans age_group\n",
       "0  Kasiobu   24    True        1     youth\n",
       "1   Konadu   40    True        1     adult\n",
       "2      Obi   29   False        0     youth\n",
       "3     Ruth   17   False        0  teenager\n",
       "4      Bob   51   False        0     adult"
      ]
     },
     "execution_count": 8,
     "metadata": {},
     "output_type": "execute_result"
    }
   ],
   "source": [
    "# List comprehension\n",
    "rate_age = [\"teenager\" if a < 18 else \"youth\" if a < 40 else \"adult\" for a in dfbool.age]\n",
    "\n",
    "# convert pandas series to numpy array\n",
    "age = np.array(rate_age)\n",
    "\n",
    "# convert back to pandas series\n",
    "dfbool['age_group'] = pd.Series(rate_age) \n",
    "dfbool"
   ]
  },
  {
   "cell_type": "code",
   "execution_count": 9,
   "id": "ac8d7527-236b-4c7f-9b0e-720e7309c90d",
   "metadata": {},
   "outputs": [],
   "source": [
    "# Loops statement and append method\n",
    "rate_age = []\n",
    "for a in dfbool.age:\n",
    "    if a < 18:\n",
    "        rate_age.append(\"teenager\")\n",
    "    elif a < 40:\n",
    "        rate_age.append(\"youth\")\n",
    "    else:\n",
    "        rate_age.append(\"adult\")\n",
    "dfbool['age_group'] = pd.Series(rate_age)\n",
    "# dfbool"
   ]
  },
  {
   "cell_type": "code",
   "execution_count": 10,
   "id": "c8040440-1576-4560-8a8e-501490dd2e29",
   "metadata": {},
   "outputs": [],
   "source": [
    "#  NUMPY METHOD\n",
    "\n",
    "\n",
    "# convert pandas series to numpy array\n",
    "age = np.array(dfbool.age) \n",
    "\n",
    " # use vectorized conditional statements\n",
    "rate_age = np.where(age < 18, \"teenager\", np.where(age < 40, \"youth\", \"adult\")) \n",
    "\n",
    "# convert back to pandas series\n",
    "dfbool['age_group'] = pd.Series(rate_age) \n",
    "#dfbool"
   ]
  },
  {
   "cell_type": "code",
   "execution_count": 11,
   "id": "fc344647-fce7-4f5e-8e60-8b8865c36967",
   "metadata": {},
   "outputs": [],
   "source": [
    "data = dfbool.copy()"
   ]
  },
  {
   "cell_type": "code",
   "execution_count": 12,
   "id": "7ad85c00-697f-49f5-9f7b-eca103ea79eb",
   "metadata": {},
   "outputs": [
    {
     "name": "stderr",
     "output_type": "stream",
     "text": [
      "C:\\Users\\peace\\AppData\\Local\\Temp\\ipykernel_12948\\2494440143.py:3: SettingWithCopyWarning: \n",
      "A value is trying to be set on a copy of a slice from a DataFrame\n",
      "\n",
      "See the caveats in the documentation: https://pandas.pydata.org/pandas-docs/stable/user_guide/indexing.html#returning-a-view-versus-a-copy\n",
      "  df1.rename(columns={\n"
     ]
    },
    {
     "data": {
      "text/html": [
       "<div>\n",
       "<style scoped>\n",
       "    .dataframe tbody tr th:only-of-type {\n",
       "        vertical-align: middle;\n",
       "    }\n",
       "\n",
       "    .dataframe tbody tr th {\n",
       "        vertical-align: top;\n",
       "    }\n",
       "\n",
       "    .dataframe thead th {\n",
       "        text-align: right;\n",
       "    }\n",
       "</style>\n",
       "<table border=\"1\" class=\"dataframe\">\n",
       "  <thead>\n",
       "    <tr style=\"text-align: right;\">\n",
       "      <th></th>\n",
       "      <th>name</th>\n",
       "      <th>age</th>\n",
       "      <th>rating</th>\n",
       "      <th>age_group</th>\n",
       "    </tr>\n",
       "  </thead>\n",
       "  <tbody>\n",
       "    <tr>\n",
       "      <th>0</th>\n",
       "      <td>Kasiobu</td>\n",
       "      <td>24</td>\n",
       "      <td>1</td>\n",
       "      <td>youth</td>\n",
       "    </tr>\n",
       "    <tr>\n",
       "      <th>1</th>\n",
       "      <td>Konadu</td>\n",
       "      <td>40</td>\n",
       "      <td>1</td>\n",
       "      <td>adult</td>\n",
       "    </tr>\n",
       "    <tr>\n",
       "      <th>2</th>\n",
       "      <td>Obi</td>\n",
       "      <td>29</td>\n",
       "      <td>0</td>\n",
       "      <td>youth</td>\n",
       "    </tr>\n",
       "    <tr>\n",
       "      <th>3</th>\n",
       "      <td>Ruth</td>\n",
       "      <td>17</td>\n",
       "      <td>0</td>\n",
       "      <td>teenager</td>\n",
       "    </tr>\n",
       "    <tr>\n",
       "      <th>4</th>\n",
       "      <td>Bob</td>\n",
       "      <td>51</td>\n",
       "      <td>0</td>\n",
       "      <td>adult</td>\n",
       "    </tr>\n",
       "  </tbody>\n",
       "</table>\n",
       "</div>"
      ],
      "text/plain": [
       "      name  age  rating age_group\n",
       "0  Kasiobu   24       1     youth\n",
       "1   Konadu   40       1     adult\n",
       "2      Obi   29       0     youth\n",
       "3     Ruth   17       0  teenager\n",
       "4      Bob   51       0     adult"
      ]
     },
     "execution_count": 12,
     "metadata": {},
     "output_type": "execute_result"
    }
   ],
   "source": [
    "df1 = data[['name', 'age', 'new_ans', 'age_group']]\n",
    "\n",
    "df1.rename(columns={\n",
    "    'new_ans':'rating'}, inplace = True\n",
    ")\n",
    "\n",
    "df1"
   ]
  },
  {
   "cell_type": "markdown",
   "id": "5c3f310e-324a-4ce1-8027-d59d87376674",
   "metadata": {},
   "source": [
    "#### STRING MANIPULATION WITH LIST COMPREHENSION "
   ]
  },
  {
   "cell_type": "code",
   "execution_count": 13,
   "id": "44053348-3a8d-4e46-a8c2-abe01ddf8266",
   "metadata": {},
   "outputs": [
    {
     "name": "stdout",
     "output_type": "stream",
     "text": [
      "['G', 'l', 'o', 'b', 'a', 'l', 'W', 'a', 'r', 'm', 'i', 'n', 'g', 'I', 's', 'A', 'D', 'i', 's', 'e', 'a', 's', 'e', 'T', 'o', 'T', 'h', 'e', 'W', 'o', 'r', 'l', 'd']\n"
     ]
    }
   ],
   "source": [
    "# STRING MANIPULATION\n",
    "my_string = \"GlobalWarmingIsADiseaseToTheWorld\"\n",
    "\n",
    "mani_string = [i for i in my_string]\n",
    "\n",
    "print(mani_string)"
   ]
  },
  {
   "cell_type": "code",
   "execution_count": 14,
   "id": "0e1069a6-432d-4348-8be4-ed8b4b1bbd8c",
   "metadata": {},
   "outputs": [
    {
     "name": "stdout",
     "output_type": "stream",
     "text": [
      "GlobalWarmingIsADiseaseToTheWorld\n"
     ]
    }
   ],
   "source": [
    "# Create an empty string and join it together \n",
    "# to connect our character together\n",
    "\n",
    "mani_string = \"\".join([i for i in my_string])\n",
    "\n",
    "print(mani_string)"
   ]
  },
  {
   "cell_type": "code",
   "execution_count": 15,
   "id": "c5720b3d-68af-4a69-9a40-bc831589adc7",
   "metadata": {},
   "outputs": [
    {
     "name": "stdout",
     "output_type": "stream",
     "text": [
      "Global Warming Is A Disease To The World\n"
     ]
    }
   ],
   "source": [
    "# Modify the original string\n",
    "\n",
    "mani_string = \"\".join(\n",
    "    # if i (character) is in lowercase do nothing. If not, concatenate a space in front of i\n",
    "    [i if i.islower() else \" \" + i for i in my_string]\n",
    ")[1:]# store the items from index 1\n",
    "\n",
    "print(mani_string)"
   ]
  },
  {
   "cell_type": "code",
   "execution_count": 29,
   "id": "62ede628-3e88-455e-9290-56fcab031400",
   "metadata": {},
   "outputs": [
    {
     "name": "stdout",
     "output_type": "stream",
     "text": [
      "Global warming is a disease to the world\n"
     ]
    }
   ],
   "source": [
    "# Now replace the Capital letters except the else if statement \"ACTION\" \"CONDITION\"\n",
    "\n",
    "mani_string = \"\".join(\n",
    "    [i if i.islower() else \" \" + i.lower() if i in [\"W\", \"I\", \"A\", \"D\", \"T\", \"T\"] else \" \" + i for i in my_string]\n",
    ")[1:]\n",
    "\n",
    "print(mani_string)"
   ]
  },
  {
   "cell_type": "code",
   "execution_count": 17,
   "id": "6a9db3eb-4036-4110-b09c-179220d886eb",
   "metadata": {},
   "outputs": [
    {
     "name": "stdout",
     "output_type": "stream",
     "text": [
      "Global Warming Is progressive progressiveisease To The World\n"
     ]
    }
   ],
   "source": [
    "# Replace \"a disease\" with \"progressive\". Note, this can replace a bunch of world.\n",
    "\n",
    "mani_string = \"\".join(\n",
    "    [i if i.islower() else \" \" + \"progressive\" if i in [\"A Disease\"] else \" \" + i for i in my_string]\n",
    ")[1:]\n",
    "\n",
    "print(mani_string)"
   ]
  },
  {
   "cell_type": "markdown",
   "id": "9ba3d49b-6587-4ce8-bb70-1d2856e52958",
   "metadata": {},
   "source": [
    "# DICTIONARY COMPREHENSION"
   ]
  },
  {
   "cell_type": "code",
   "execution_count": 18,
   "id": "cd1ad90a-3138-4d0d-a6d5-f3f5dcc17165",
   "metadata": {},
   "outputs": [
    {
     "name": "stdout",
     "output_type": "stream",
     "text": [
      "{'plagiarism': None, 'pointillism': None, 'socialism': None, 'activism': None, 'organism': None}\n"
     ]
    }
   ],
   "source": [
    "# create dictionary\n",
    "my_dic = {\"plagiar\": \"book\", \"pointill\": \"drawing\", \"social\": \"politics\", \"activ\": \"philanthropist\", \"organ\": \"living things\"}\n",
    " \n",
    "# Concatinate the each string to have \"ism\"\n",
    "# add each key (example social and organ) and \"ism\"\n",
    "# Example of KEY plagiar\n",
    "# Example of value is book\n",
    "my_dict = {key + \"ism\" : None for key in my_dic}\n",
    "print(my_dict)"
   ]
  },
  {
   "cell_type": "code",
   "execution_count": 19,
   "id": "22dd7624-2efa-4933-99e6-0e7ec816d9f2",
   "metadata": {},
   "outputs": [
    {
     "name": "stdout",
     "output_type": "stream",
     "text": [
      "{'plagiarism': 'book', 'pointillism': 'drawing', 'socialism': 'politics', 'activism': 'philanthropist', 'organism': 'living things'}\n"
     ]
    }
   ],
   "source": [
    "my_dict1 = {key + \"ism\" : val for (key, val) in my_dic.items()}\n",
    "print(my_dict1)"
   ]
  },
  {
   "cell_type": "code",
   "execution_count": 20,
   "id": "ce2e3aca-a5bd-46e6-bbf2-a57de2fc871f",
   "metadata": {},
   "outputs": [
    {
     "name": "stdout",
     "output_type": "stream",
     "text": [
      "{'plagiarism': 'book', 'pointillism': 'drawing', 'politicism': 'politics', 'activism': 'philanthropist', 'organism': 'living things'}\n"
     ]
    }
   ],
   "source": [
    "# Concatenate the string \"ism\" to each of the keys when they are not equal to social. Ortherwise replace the key \"social\" with politicism\n",
    "my_dict2 = {\n",
    "    (key + \"ism\" if key !=  \"social\" else \"politicism\"): \n",
    "    val for (key, val) in my_dic.items()\n",
    "}\n",
    "print(my_dict2)"
   ]
  },
  {
   "cell_type": "code",
   "execution_count": 21,
   "id": "fb6fa75f-f0fc-45c0-993c-2dbf6e643769",
   "metadata": {},
   "outputs": [
    {
     "name": "stdout",
     "output_type": "stream",
     "text": [
      "{'plagiarism': 'article', 'pointillism': 'drawing', 'politicism': 'politics', 'activism': 'philanthropist', 'organism': 'living things'}\n"
     ]
    }
   ],
   "source": [
    "# Concatenate the string \"ism\" to each of the keys when they are not equal to social. Ortherwise replace the key \"social\" with politicism\n",
    "# store values when they're not equal to book. otherwise replace with article.\n",
    "my_dict2 = {\n",
    "    (key + \"ism\" if key !=  \"social\" else \"politicism\"): \n",
    "    (val if val != \"book\" else \"article\") \n",
    "    for (key, val) in my_dic.items()\n",
    "}\n",
    "print(my_dict2)"
   ]
  },
  {
   "cell_type": "markdown",
   "id": "d22096d1-480a-4b05-9687-34d965952747",
   "metadata": {},
   "source": [
    "# Complex Data Structure DNA"
   ]
  },
  {
   "cell_type": "code",
   "execution_count": 22,
   "id": "8f114240-9fd1-43d0-9b44-ef5852a4c8da",
   "metadata": {},
   "outputs": [
    {
     "name": "stdout",
     "output_type": "stream",
     "text": [
      "['G', 'A', 'C', 'T', 'T', 'C', 'G']\n"
     ]
    }
   ],
   "source": [
    "import random\n",
    "import string\n",
    "\n",
    "dna = [\"A\", \"T\",\"C\", \"G\"]\n",
    "rand = random.choices(dna, k=7)\n",
    "print(rand)"
   ]
  },
  {
   "cell_type": "markdown",
   "id": "8e0f370d-b19a-407b-9309-4582c00fdb44",
   "metadata": {},
   "source": [
    "##### Create DNA Sequence"
   ]
  },
  {
   "cell_type": "code",
   "execution_count": 23,
   "id": "640537b1-e0ca-4a68-b734-4838f457d08c",
   "metadata": {},
   "outputs": [
    {
     "data": {
      "text/plain": [
       "0    [G, C]\n",
       "1    [A, T]\n",
       "2    [C, G]\n",
       "dtype: object"
      ]
     },
     "execution_count": 23,
     "metadata": {},
     "output_type": "execute_result"
    }
   ],
   "source": [
    "# Using Loop \n",
    "dna1 = {}\n",
    "for idx, d in enumerate(rand):\n",
    "    if d == \"A\":\n",
    "        d2 = \"T\"\n",
    "    elif d == \"T\":\n",
    "        d2 = \"A\"\n",
    "    elif d == \"C\":\n",
    "        d2 = \"G\"\n",
    "    elif d == \"G\":\n",
    "        d2 = \"C\"\n",
    "    else:\n",
    "        d2 = \"A\"\n",
    "    dna1[idx] = [d, d2]\n",
    "#dna1\n",
    "df = pd.Series(dna1)\n",
    "df.head(3)"
   ]
  },
  {
   "cell_type": "code",
   "execution_count": 24,
   "id": "5479daca-9e60-4674-a00e-558ff824800e",
   "metadata": {},
   "outputs": [
    {
     "data": {
      "text/plain": [
       "{0: ['G', 'C'],\n",
       " 1: ['A', 'T'],\n",
       " 2: ['C', 'G'],\n",
       " 3: ['T', 'A'],\n",
       " 4: ['T', 'A'],\n",
       " 5: ['C', 'G'],\n",
       " 6: ['G', 'C']}"
      ]
     },
     "execution_count": 24,
     "metadata": {},
     "output_type": "execute_result"
    }
   ],
   "source": [
    "# Using the Dictionary comprehension method\n",
    "dna2 = {key:[val, (\"T\" if val == \"A\" else \"A\" if val == \"T\" else \"C\" if val == \"G\" else \"G\")] \n",
    "        for (key, val) in enumerate (rand)}\n",
    "dna2"
   ]
  },
  {
   "cell_type": "markdown",
   "id": "2b922049-5418-4171-b3f7-9a9e4b951863",
   "metadata": {},
   "source": [
    "##### Dictionary Comprehension\n",
    "\n",
    "###### create users and generate password inside list dictionary"
   ]
  },
  {
   "cell_type": "code",
   "execution_count": 28,
   "id": "294251c2-ba76-4535-adcf-aaad9d4f31bd",
   "metadata": {},
   "outputs": [
    {
     "name": "stdout",
     "output_type": "stream",
     "text": [
      "[{'id': 0, 'username': 'Kash9993', 'password': None}, {'id': 1, 'username': 'Wisdom392', 'password': None}]\n"
     ]
    }
   ],
   "source": [
    "# List of Dictionary\n",
    "keys = [\"id\", \"username\", \"password\"]\n",
    "users = [\"Kash9993\", \"Wisdom392\"]\n",
    "\n",
    "# Create a dictionary inside a list and assign each key a none value.\n",
    "# data = [{key: None for key in keys} for i in range(len(users))]\n",
    "# print(data)\n",
    "\n",
    "#Create a dictionary inside a list and assign each key a username value.\n",
    "data1 = [{key:(i if key == \"id\" else users[i] if key == \"username\" else None) for key in keys} for i in range(len(users))]\n",
    "\n",
    "print(data1)"
   ]
  },
  {
   "cell_type": "code",
   "execution_count": 26,
   "id": "3f698752-6dcf-4503-bf6b-fc463eb02984",
   "metadata": {},
   "outputs": [
    {
     "data": {
      "text/plain": [
       "'k&@haf7nPQ|E'"
      ]
     },
     "execution_count": 26,
     "metadata": {},
     "output_type": "execute_result"
    }
   ],
   "source": [
    "passw = \"\".join(random.choices(string.printable, k=12))\n",
    "passw"
   ]
  },
  {
   "cell_type": "code",
   "execution_count": 27,
   "id": "7ef7568d-e845-4f87-84aa-8c47eb300fca",
   "metadata": {},
   "outputs": [
    {
     "name": "stdout",
     "output_type": "stream",
     "text": [
      "[{'id': 0, 'username': 'Kash9993', 'password': '?CM2~D7)c:[)'}, {'id': 1, 'username': 'Wisdom392', 'password': 'q?@\"3ue06F\\x0c-'}]\n"
     ]
    }
   ],
   "source": [
    "# Now replace the None place holder with the password command\n",
    "\n",
    "data1 = [{key:(i if key == \"id\" else users[i] if key == \"username\" else \"\".join(random.choices(string.printable, k=12))\n",
    ") for key in keys} for i in range(len(users))]\n",
    "\n",
    "print(data1)"
   ]
  },
  {
   "cell_type": "code",
   "execution_count": null,
   "id": "60679e37-00eb-40ca-8025-23c1058658e1",
   "metadata": {},
   "outputs": [],
   "source": []
  },
  {
   "cell_type": "markdown",
   "id": "2213711e-6604-4e2c-b7b6-4baede3b28e2",
   "metadata": {},
   "source": [
    "### IT'S IMPORTANT TO NOTE:\n",
    "    List and Dictionary comprehension are quicker to use, however Loops may be easier to underdstand as most people are familiar with it. \n",
    "    The major disadvantage of using the list and dictionary comprehension method lies within a teamwork. This is because\n",
    "    some people may not be familiar with the method. Having known this, it's important to use method that is suitable to and your work.\n",
    "    "
   ]
  },
  {
   "cell_type": "code",
   "execution_count": null,
   "id": "41f1c723-05e0-4281-8766-2bf31f834cdc",
   "metadata": {},
   "outputs": [],
   "source": []
  }
 ],
 "metadata": {
  "kernelspec": {
   "display_name": "Python 3 (ipykernel)",
   "language": "python",
   "name": "python3"
  },
  "language_info": {
   "codemirror_mode": {
    "name": "ipython",
    "version": 3
   },
   "file_extension": ".py",
   "mimetype": "text/x-python",
   "name": "python",
   "nbconvert_exporter": "python",
   "pygments_lexer": "ipython3",
   "version": "3.9.13"
  }
 },
 "nbformat": 4,
 "nbformat_minor": 5
}

{
 "cells": [
  {
   "cell_type": "markdown",
   "id": "c1798354",
   "metadata": {},
   "source": [
    "# Year on Year Comparison and Month on Month Comparison"
   ]
  },
  {
   "cell_type": "code",
   "execution_count": 1,
   "id": "a6d0d163",
   "metadata": {},
   "outputs": [],
   "source": [
    "# Imported Libraries \n",
    "import pandas as pd\n",
    "import numpy as np\n",
    "import matplotlib.pyplot as plt\n",
    "import plotly.express as px\n",
    "import seaborn as sns\n",
    "import os\n",
    "%matplotlib inline"
   ]
  },
  {
   "cell_type": "code",
   "execution_count": 2,
   "id": "58b42c65",
   "metadata": {},
   "outputs": [],
   "source": [
    "# Dataset Display Settings\n",
    "pd.set_option('display.max_columns', None)"
   ]
  },
  {
   "cell_type": "code",
   "execution_count": 3,
   "id": "4ab45d7a",
   "metadata": {},
   "outputs": [
    {
     "data": {
      "text/html": [
       "<style type=\"\"text/CSS\"\">\n",
       "table.dataframe td, table.dataframe th {\n",
       "    border: 1px green solid !important;\n",
       "    color: purple !important;\n",
       "}\n"
      ],
      "text/plain": [
       "<IPython.core.display.HTML object>"
      ]
     },
     "metadata": {},
     "output_type": "display_data"
    }
   ],
   "source": [
    "%%HTML\n",
    "<style type=\"\"text/CSS\"\">\n",
    "table.dataframe td, table.dataframe th {\n",
    "    border: 1px green solid !important;\n",
    "    color: purple !important;\n",
    "}"
   ]
  },
  {
   "cell_type": "code",
   "execution_count": 4,
   "id": "c2342c54",
   "metadata": {},
   "outputs": [
    {
     "data": {
      "text/plain": [
       "['.ipynb_checkpoints',\n",
       " 'Boddinting_Cutting.xlsx',\n",
       " 'chins_column.ipynb',\n",
       " 'Comparison.ipynb',\n",
       " 'Data-analysis--Python',\n",
       " 'Git_Hub_Command_2_upload_project.txt',\n",
       " 'README.md',\n",
       " 'Untitled.ipynb',\n",
       " 'web_scraping.ipynb',\n",
       " 'Y&M_data.csv',\n",
       " 'YearlyMonthlyComparison.ipynb',\n",
       " 'YoY&play']"
      ]
     },
     "execution_count": 4,
     "metadata": {},
     "output_type": "execute_result"
    }
   ],
   "source": [
    "os.listdir('/Users/peace/github')"
   ]
  },
  {
   "cell_type": "code",
   "execution_count": 5,
   "id": "55a49c98",
   "metadata": {},
   "outputs": [
    {
     "data": {
      "text/html": [
       "<div>\n",
       "<style scoped>\n",
       "    .dataframe tbody tr th:only-of-type {\n",
       "        vertical-align: middle;\n",
       "    }\n",
       "\n",
       "    .dataframe tbody tr th {\n",
       "        vertical-align: top;\n",
       "    }\n",
       "\n",
       "    .dataframe thead th {\n",
       "        text-align: right;\n",
       "    }\n",
       "</style>\n",
       "<table border=\"1\" class=\"dataframe\">\n",
       "  <thead>\n",
       "    <tr style=\"text-align: right;\">\n",
       "      <th></th>\n",
       "      <th>Date</th>\n",
       "      <th>averagePrice</th>\n",
       "      <th>volume1</th>\n",
       "      <th>volume2</th>\n",
       "      <th>large_bags</th>\n",
       "      <th>small bags</th>\n",
       "      <th>type</th>\n",
       "      <th>year</th>\n",
       "      <th>region</th>\n",
       "    </tr>\n",
       "  </thead>\n",
       "  <tbody>\n",
       "    <tr>\n",
       "      <th>0</th>\n",
       "      <td>12/13/2018</td>\n",
       "      <td>1.41</td>\n",
       "      <td>2041.45</td>\n",
       "      <td>6847.69</td>\n",
       "      <td>5576.77</td>\n",
       "      <td>93.81</td>\n",
       "      <td>conventional</td>\n",
       "      <td>2018</td>\n",
       "      <td>Peterborough</td>\n",
       "    </tr>\n",
       "    <tr>\n",
       "      <th>1</th>\n",
       "      <td>12/20/2018</td>\n",
       "      <td>1.32</td>\n",
       "      <td>1456.58</td>\n",
       "      <td>3843.58</td>\n",
       "      <td>4467.19</td>\n",
       "      <td>75.84</td>\n",
       "      <td>conventional</td>\n",
       "      <td>2018</td>\n",
       "      <td>Peterborough</td>\n",
       "    </tr>\n",
       "    <tr>\n",
       "      <th>2</th>\n",
       "      <td>10/20/2018</td>\n",
       "      <td>0.89</td>\n",
       "      <td>860.09</td>\n",
       "      <td>9578.95</td>\n",
       "      <td>6435.67</td>\n",
       "      <td>48.16</td>\n",
       "      <td>conventional</td>\n",
       "      <td>2018</td>\n",
       "      <td>Peterborough</td>\n",
       "    </tr>\n",
       "    <tr>\n",
       "      <th>3</th>\n",
       "      <td>10/20/2018</td>\n",
       "      <td>1.38</td>\n",
       "      <td>585.45</td>\n",
       "      <td>6478.65</td>\n",
       "      <td>3455.23</td>\n",
       "      <td>69.34</td>\n",
       "      <td>conventional</td>\n",
       "      <td>2018</td>\n",
       "      <td>Peterborough</td>\n",
       "    </tr>\n",
       "    <tr>\n",
       "      <th>4</th>\n",
       "      <td>11/11/2018</td>\n",
       "      <td>1.22</td>\n",
       "      <td>734.23</td>\n",
       "      <td>9574.48</td>\n",
       "      <td>8687.02</td>\n",
       "      <td>83.27</td>\n",
       "      <td>conventional</td>\n",
       "      <td>2018</td>\n",
       "      <td>Ipswich</td>\n",
       "    </tr>\n",
       "  </tbody>\n",
       "</table>\n",
       "</div>"
      ],
      "text/plain": [
       "         Date  averagePrice  volume1  volume2  large_bags  small bags  \\\n",
       "0  12/13/2018          1.41  2041.45  6847.69     5576.77       93.81   \n",
       "1  12/20/2018          1.32  1456.58  3843.58     4467.19       75.84   \n",
       "2  10/20/2018          0.89   860.09  9578.95     6435.67       48.16   \n",
       "3  10/20/2018          1.38   585.45  6478.65     3455.23       69.34   \n",
       "4  11/11/2018          1.22   734.23  9574.48     8687.02       83.27   \n",
       "\n",
       "           type  year        region  \n",
       "0  conventional  2018  Peterborough  \n",
       "1  conventional  2018  Peterborough  \n",
       "2  conventional  2018  Peterborough  \n",
       "3  conventional  2018  Peterborough  \n",
       "4  conventional  2018       Ipswich  "
      ]
     },
     "execution_count": 5,
     "metadata": {},
     "output_type": "execute_result"
    }
   ],
   "source": [
    "# load the dataset\n",
    "df = pd.read_csv(\"/Users/peace/github/Y&M_data.csv\")\n",
    "df.head()"
   ]
  },
  {
   "cell_type": "code",
   "execution_count": 6,
   "id": "1c3aa5ca",
   "metadata": {},
   "outputs": [],
   "source": [
    "#df['type'].value_counts()"
   ]
  },
  {
   "cell_type": "code",
   "execution_count": 7,
   "id": "e6e3fb39",
   "metadata": {},
   "outputs": [],
   "source": [
    "# Convert each column to lower case\n",
    "# df.columns.str.lower()\n",
    "# df.head(1)"
   ]
  },
  {
   "cell_type": "code",
   "execution_count": 8,
   "id": "172d79c2",
   "metadata": {},
   "outputs": [
    {
     "data": {
      "text/html": [
       "<div>\n",
       "<style scoped>\n",
       "    .dataframe tbody tr th:only-of-type {\n",
       "        vertical-align: middle;\n",
       "    }\n",
       "\n",
       "    .dataframe tbody tr th {\n",
       "        vertical-align: top;\n",
       "    }\n",
       "\n",
       "    .dataframe thead th {\n",
       "        text-align: right;\n",
       "    }\n",
       "</style>\n",
       "<table border=\"1\" class=\"dataframe\">\n",
       "  <thead>\n",
       "    <tr style=\"text-align: right;\">\n",
       "      <th></th>\n",
       "      <th>date</th>\n",
       "      <th>averagePrice</th>\n",
       "      <th>volume1</th>\n",
       "      <th>volume2</th>\n",
       "      <th>large_bags</th>\n",
       "      <th>small bags</th>\n",
       "      <th>type</th>\n",
       "      <th>year</th>\n",
       "      <th>region</th>\n",
       "    </tr>\n",
       "  </thead>\n",
       "  <tbody>\n",
       "    <tr>\n",
       "      <th>0</th>\n",
       "      <td>12/13/2018</td>\n",
       "      <td>1.41</td>\n",
       "      <td>2041.45</td>\n",
       "      <td>6847.69</td>\n",
       "      <td>5576.77</td>\n",
       "      <td>93.81</td>\n",
       "      <td>conventional</td>\n",
       "      <td>2018</td>\n",
       "      <td>Peterborough</td>\n",
       "    </tr>\n",
       "  </tbody>\n",
       "</table>\n",
       "</div>"
      ],
      "text/plain": [
       "         date  averagePrice  volume1  volume2  large_bags  small bags  \\\n",
       "0  12/13/2018          1.41  2041.45  6847.69     5576.77       93.81   \n",
       "\n",
       "           type  year        region  \n",
       "0  conventional  2018  Peterborough  "
      ]
     },
     "execution_count": 8,
     "metadata": {},
     "output_type": "execute_result"
    }
   ],
   "source": [
    "# Rename the first columns \"Date\" to \"date\"\n",
    "df.rename(columns = {\n",
    "    'Date': 'date'\n",
    "    }, inplace =True)\n",
    "\n",
    "df.head(1)"
   ]
  },
  {
   "cell_type": "code",
   "execution_count": 9,
   "id": "31adbdde",
   "metadata": {},
   "outputs": [
    {
     "data": {
      "text/html": [
       "<div>\n",
       "<style scoped>\n",
       "    .dataframe tbody tr th:only-of-type {\n",
       "        vertical-align: middle;\n",
       "    }\n",
       "\n",
       "    .dataframe tbody tr th {\n",
       "        vertical-align: top;\n",
       "    }\n",
       "\n",
       "    .dataframe thead th {\n",
       "        text-align: right;\n",
       "    }\n",
       "</style>\n",
       "<table border=\"1\" class=\"dataframe\">\n",
       "  <thead>\n",
       "    <tr style=\"text-align: right;\">\n",
       "      <th></th>\n",
       "      <th>averagePrice</th>\n",
       "      <th>volume1</th>\n",
       "      <th>volume2</th>\n",
       "      <th>large_bags</th>\n",
       "      <th>small bags</th>\n",
       "      <th>year</th>\n",
       "    </tr>\n",
       "  </thead>\n",
       "  <tbody>\n",
       "    <tr>\n",
       "      <th>count</th>\n",
       "      <td>179.000000</td>\n",
       "      <td>179.000000</td>\n",
       "      <td>179.000000</td>\n",
       "      <td>179.000000</td>\n",
       "      <td>179.000000</td>\n",
       "      <td>179.000000</td>\n",
       "    </tr>\n",
       "    <tr>\n",
       "      <th>mean</th>\n",
       "      <td>1.306145</td>\n",
       "      <td>1575.025196</td>\n",
       "      <td>50692.468436</td>\n",
       "      <td>6296.325810</td>\n",
       "      <td>65.545587</td>\n",
       "      <td>2019.960894</td>\n",
       "    </tr>\n",
       "    <tr>\n",
       "      <th>std</th>\n",
       "      <td>0.305116</td>\n",
       "      <td>1988.242391</td>\n",
       "      <td>37790.344995</td>\n",
       "      <td>2209.663627</td>\n",
       "      <td>32.832269</td>\n",
       "      <td>1.427511</td>\n",
       "    </tr>\n",
       "    <tr>\n",
       "      <th>min</th>\n",
       "      <td>0.690000</td>\n",
       "      <td>563.120000</td>\n",
       "      <td>3843.580000</td>\n",
       "      <td>334.010000</td>\n",
       "      <td>10.100000</td>\n",
       "      <td>2018.000000</td>\n",
       "    </tr>\n",
       "    <tr>\n",
       "      <th>25%</th>\n",
       "      <td>1.110000</td>\n",
       "      <td>852.535000</td>\n",
       "      <td>8749.430000</td>\n",
       "      <td>4536.985000</td>\n",
       "      <td>48.160000</td>\n",
       "      <td>2019.000000</td>\n",
       "    </tr>\n",
       "    <tr>\n",
       "      <th>50%</th>\n",
       "      <td>1.290000</td>\n",
       "      <td>968.980000</td>\n",
       "      <td>56471.430000</td>\n",
       "      <td>6478.150000</td>\n",
       "      <td>67.290000</td>\n",
       "      <td>2020.000000</td>\n",
       "    </tr>\n",
       "    <tr>\n",
       "      <th>75%</th>\n",
       "      <td>1.510000</td>\n",
       "      <td>1012.290000</td>\n",
       "      <td>75788.770000</td>\n",
       "      <td>8589.170000</td>\n",
       "      <td>83.270000</td>\n",
       "      <td>2021.000000</td>\n",
       "    </tr>\n",
       "    <tr>\n",
       "      <th>max</th>\n",
       "      <td>1.910000</td>\n",
       "      <td>8759.870000</td>\n",
       "      <td>172829.320000</td>\n",
       "      <td>9778.990000</td>\n",
       "      <td>130.340000</td>\n",
       "      <td>2022.000000</td>\n",
       "    </tr>\n",
       "  </tbody>\n",
       "</table>\n",
       "</div>"
      ],
      "text/plain": [
       "       averagePrice      volume1        volume2   large_bags  small bags  \\\n",
       "count    179.000000   179.000000     179.000000   179.000000  179.000000   \n",
       "mean       1.306145  1575.025196   50692.468436  6296.325810   65.545587   \n",
       "std        0.305116  1988.242391   37790.344995  2209.663627   32.832269   \n",
       "min        0.690000   563.120000    3843.580000   334.010000   10.100000   \n",
       "25%        1.110000   852.535000    8749.430000  4536.985000   48.160000   \n",
       "50%        1.290000   968.980000   56471.430000  6478.150000   67.290000   \n",
       "75%        1.510000  1012.290000   75788.770000  8589.170000   83.270000   \n",
       "max        1.910000  8759.870000  172829.320000  9778.990000  130.340000   \n",
       "\n",
       "              year  \n",
       "count   179.000000  \n",
       "mean   2019.960894  \n",
       "std       1.427511  \n",
       "min    2018.000000  \n",
       "25%    2019.000000  \n",
       "50%    2020.000000  \n",
       "75%    2021.000000  \n",
       "max    2022.000000  "
      ]
     },
     "execution_count": 9,
     "metadata": {},
     "output_type": "execute_result"
    }
   ],
   "source": [
    "# The basic description of each column of the dataframe \n",
    "df.describe()"
   ]
  },
  {
   "cell_type": "code",
   "execution_count": 10,
   "id": "24cc0ed2",
   "metadata": {},
   "outputs": [
    {
     "name": "stdout",
     "output_type": "stream",
     "text": [
      "<class 'pandas.core.frame.DataFrame'>\n",
      "RangeIndex: 179 entries, 0 to 178\n",
      "Data columns (total 9 columns):\n",
      " #   Column        Non-Null Count  Dtype  \n",
      "---  ------        --------------  -----  \n",
      " 0   date          179 non-null    object \n",
      " 1   averagePrice  179 non-null    float64\n",
      " 2   volume1       179 non-null    float64\n",
      " 3   volume2       179 non-null    float64\n",
      " 4   large_bags    179 non-null    float64\n",
      " 5   small bags    179 non-null    float64\n",
      " 6   type          179 non-null    object \n",
      " 7   year          179 non-null    int64  \n",
      " 8   region        179 non-null    object \n",
      "dtypes: float64(5), int64(1), object(3)\n",
      "memory usage: 12.7+ KB\n"
     ]
    }
   ],
   "source": [
    "# Information about the dataframe\n",
    "df.info()"
   ]
  },
  {
   "cell_type": "code",
   "execution_count": 11,
   "id": "46438576",
   "metadata": {},
   "outputs": [
    {
     "data": {
      "text/plain": [
       "('01/05/2018', '9/23/2022')"
      ]
     },
     "execution_count": 11,
     "metadata": {},
     "output_type": "execute_result"
    }
   ],
   "source": [
    "# show the minimum and maximum date in the dataframe\n",
    "df['date'].min(), df['date'].max()"
   ]
  },
  {
   "cell_type": "code",
   "execution_count": 12,
   "id": "89bc057d",
   "metadata": {},
   "outputs": [],
   "source": [
    "# Correcting an over ranged date \n",
    "# (\"11/22/20119\" with \"11/22/2019\" through replacement method).\n",
    "# df.loc[df['date']=='11/22/20119','date']='11/22/2019'\n",
    "\n",
    "# Now change date type to datetime\n",
    "# df['date']=pd.to_datetime(df['date'])"
   ]
  },
  {
   "cell_type": "code",
   "execution_count": 13,
   "id": "21e073e5",
   "metadata": {},
   "outputs": [
    {
     "data": {
      "text/plain": [
       "pandas._libs.tslibs.timestamps.Timestamp"
      ]
     },
     "execution_count": 13,
     "metadata": {},
     "output_type": "execute_result"
    }
   ],
   "source": [
    "#To play safe and smart, change date type to datetime and convert any out of ranged date to null.\n",
    "df['date']=pd.to_datetime(df['date'], errors=\"coerce\")\n",
    "type(df.date[0])"
   ]
  },
  {
   "cell_type": "code",
   "execution_count": 14,
   "id": "a439a59f",
   "metadata": {},
   "outputs": [
    {
     "data": {
      "text/plain": [
       "date            datetime64[ns]\n",
       "averagePrice           float64\n",
       "volume1                float64\n",
       "volume2                float64\n",
       "large_bags             float64\n",
       "small bags             float64\n",
       "type                    object\n",
       "year                     int64\n",
       "region                  object\n",
       "dtype: object"
      ]
     },
     "execution_count": 14,
     "metadata": {},
     "output_type": "execute_result"
    }
   ],
   "source": [
    "# show the data type\n",
    "df.dtypes"
   ]
  },
  {
   "cell_type": "code",
   "execution_count": 15,
   "id": "fc585501",
   "metadata": {},
   "outputs": [
    {
     "data": {
      "text/plain": [
       "date            2\n",
       "averagePrice    0\n",
       "volume1         0\n",
       "volume2         0\n",
       "large_bags      0\n",
       "small bags      0\n",
       "type            0\n",
       "year            0\n",
       "region          0\n",
       "dtype: int64"
      ]
     },
     "execution_count": 15,
     "metadata": {},
     "output_type": "execute_result"
    }
   ],
   "source": [
    "# Check for null value\n",
    "df.isnull().sum().sort_values(ascending = False)"
   ]
  },
  {
   "cell_type": "code",
   "execution_count": 16,
   "id": "204a7176-4ad9-4c78-a790-9b4a55721b56",
   "metadata": {},
   "outputs": [],
   "source": [
    "#df['date'] = np.nan_to_num(df['date'])"
   ]
  },
  {
   "cell_type": "code",
   "execution_count": 17,
   "id": "7c0c02bf-1fef-4162-8421-9c6485b5d1f2",
   "metadata": {},
   "outputs": [
    {
     "data": {
      "text/html": [
       "<div>\n",
       "<style scoped>\n",
       "    .dataframe tbody tr th:only-of-type {\n",
       "        vertical-align: middle;\n",
       "    }\n",
       "\n",
       "    .dataframe tbody tr th {\n",
       "        vertical-align: top;\n",
       "    }\n",
       "\n",
       "    .dataframe thead th {\n",
       "        text-align: right;\n",
       "    }\n",
       "</style>\n",
       "<table border=\"1\" class=\"dataframe\">\n",
       "  <thead>\n",
       "    <tr style=\"text-align: right;\">\n",
       "      <th></th>\n",
       "      <th>date</th>\n",
       "      <th>averagePrice</th>\n",
       "      <th>volume1</th>\n",
       "      <th>volume2</th>\n",
       "      <th>large_bags</th>\n",
       "      <th>small bags</th>\n",
       "      <th>type</th>\n",
       "      <th>year</th>\n",
       "      <th>region</th>\n",
       "    </tr>\n",
       "  </thead>\n",
       "  <tbody>\n",
       "    <tr>\n",
       "      <th>42</th>\n",
       "      <td>NaT</td>\n",
       "      <td>1.91</td>\n",
       "      <td>1873.37</td>\n",
       "      <td>65581.29</td>\n",
       "      <td>5547.74</td>\n",
       "      <td>71.74</td>\n",
       "      <td>organic</td>\n",
       "      <td>2019</td>\n",
       "      <td>St. Ives</td>\n",
       "    </tr>\n",
       "    <tr>\n",
       "      <th>173</th>\n",
       "      <td>NaT</td>\n",
       "      <td>1.81</td>\n",
       "      <td>1132.00</td>\n",
       "      <td>34542.58</td>\n",
       "      <td>6435.97</td>\n",
       "      <td>75.34</td>\n",
       "      <td>organic</td>\n",
       "      <td>2022</td>\n",
       "      <td>St. Ives</td>\n",
       "    </tr>\n",
       "  </tbody>\n",
       "</table>\n",
       "</div>"
      ],
      "text/plain": [
       "    date  averagePrice  volume1   volume2  large_bags  small bags     type  \\\n",
       "42   NaT          1.91  1873.37  65581.29     5547.74       71.74  organic   \n",
       "173  NaT          1.81  1132.00  34542.58     6435.97       75.34  organic   \n",
       "\n",
       "     year    region  \n",
       "42   2019  St. Ives  \n",
       "173  2022  St. Ives  "
      ]
     },
     "execution_count": 17,
     "metadata": {},
     "output_type": "execute_result"
    }
   ],
   "source": [
    "#show nan rows in the column\n",
    "df[df['date'].isna()]"
   ]
  },
  {
   "cell_type": "code",
   "execution_count": 18,
   "id": "42866025",
   "metadata": {},
   "outputs": [
    {
     "data": {
      "text/plain": [
       "0"
      ]
     },
     "execution_count": 18,
     "metadata": {},
     "output_type": "execute_result"
    }
   ],
   "source": [
    "# Fill the missing value\n",
    "df.loc[df['date'].isnull(), 'date'] = df['date'].median()\n",
    "\n",
    "# Checking for Null value the column \"date\"\n",
    "df.date.isnull().sum()"
   ]
  },
  {
   "cell_type": "code",
   "execution_count": 19,
   "id": "83ab66b1",
   "metadata": {},
   "outputs": [],
   "source": [
    "# Check for duplicate in the dataset\n",
    "#df.drop_duplicates(keep='first', inplace=True)\n",
    "\n",
    "# Check duplicate in 2 columns and drop the duplicates.\n",
    "df.duplicated(subset=['date', 'region'])\n",
    "df.drop_duplicates(subset =['date', 'region'], inplace=True)"
   ]
  },
  {
   "cell_type": "markdown",
   "id": "086aae9b",
   "metadata": {},
   "source": [
    "#### Graphical representation of the valued data"
   ]
  },
  {
   "cell_type": "code",
   "execution_count": 20,
   "id": "cdb9afc9-3554-40bb-ba04-1d9d6bfeae7a",
   "metadata": {},
   "outputs": [
    {
     "data": {
      "text/plain": [
       "Text(0.5, 1.0, 'Average price of organic and conventional orange')"
      ]
     },
     "execution_count": 20,
     "metadata": {},
     "output_type": "execute_result"
    },
    {
     "data": {
      "image/png": "[encoded data removed]",
      "text/plain": [
       "<Figure size 1100x300 with 1 Axes>"
      ]
     },
     "metadata": {},
     "output_type": "display_data"
    }
   ],
   "source": [
    "# Show the average price for the type column in each year\n",
    "plt.figure(figsize=(11,3))\n",
    "sns.pointplot(data=df, x='year', y='averagePrice', hue='type', palette='Set1')\n",
    "plt.title('Average price of organic and conventional orange')"
   ]
  },
  {
   "cell_type": "code",
   "execution_count": 21,
   "id": "dc1500e8",
   "metadata": {},
   "outputs": [
    {
     "data": {
      "text/plain": [
       "Text(0.5, 1.0, 'The yearly average price distribution for each town')"
      ]
     },
     "execution_count": 21,
     "metadata": {},
     "output_type": "execute_result"
    },
    {
     "data": {
      "image/png": "[encoded data removed]",
      "text/plain": [
       "<Figure size 1900x1100 with 1 Axes>"
      ]
     },
     "metadata": {},
     "output_type": "display_data"
    }
   ],
   "source": [
    "# Display the yearly average price distribution of each town \n",
    "plt.figure(figsize=(19,11))\n",
    "sns.histplot(data=df, x='year', y='averagePrice', hue='region', element='dodge', palette='Set1', bins='auto')\n",
    "plt.title('The yearly average price distribution for each town')"
   ]
  },
  {
   "cell_type": "code",
   "execution_count": 22,
   "id": "5423a054",
   "metadata": {},
   "outputs": [
    {
     "data": {
      "text/html": [
       "<div>\n",
       "<style scoped>\n",
       "    .dataframe tbody tr th:only-of-type {\n",
       "        vertical-align: middle;\n",
       "    }\n",
       "\n",
       "    .dataframe tbody tr th {\n",
       "        vertical-align: top;\n",
       "    }\n",
       "\n",
       "    .dataframe thead th {\n",
       "        text-align: right;\n",
       "    }\n",
       "</style>\n",
       "<table border=\"1\" class=\"dataframe\">\n",
       "  <thead>\n",
       "    <tr style=\"text-align: right;\">\n",
       "      <th></th>\n",
       "      <th>date</th>\n",
       "      <th>region</th>\n",
       "      <th>averagePrice</th>\n",
       "    </tr>\n",
       "  </thead>\n",
       "  <tbody>\n",
       "    <tr>\n",
       "      <th>0</th>\n",
       "      <td>2018-12-13</td>\n",
       "      <td>Peterborough</td>\n",
       "      <td>1.41</td>\n",
       "    </tr>\n",
       "    <tr>\n",
       "      <th>1</th>\n",
       "      <td>2018-12-20</td>\n",
       "      <td>Peterborough</td>\n",
       "      <td>1.32</td>\n",
       "    </tr>\n",
       "    <tr>\n",
       "      <th>2</th>\n",
       "      <td>2018-10-20</td>\n",
       "      <td>Peterborough</td>\n",
       "      <td>0.89</td>\n",
       "    </tr>\n",
       "    <tr>\n",
       "      <th>4</th>\n",
       "      <td>2018-11-11</td>\n",
       "      <td>Ipswich</td>\n",
       "      <td>1.22</td>\n",
       "    </tr>\n",
       "    <tr>\n",
       "      <th>5</th>\n",
       "      <td>2018-11-17</td>\n",
       "      <td>Ipswich</td>\n",
       "      <td>1.09</td>\n",
       "    </tr>\n",
       "  </tbody>\n",
       "</table>\n",
       "</div>"
      ],
      "text/plain": [
       "        date        region  averagePrice\n",
       "0 2018-12-13  Peterborough          1.41\n",
       "1 2018-12-20  Peterborough          1.32\n",
       "2 2018-10-20  Peterborough          0.89\n",
       "4 2018-11-11       Ipswich          1.22\n",
       "5 2018-11-17       Ipswich          1.09"
      ]
     },
     "execution_count": 22,
     "metadata": {},
     "output_type": "execute_result"
    }
   ],
   "source": [
    "# Creating a new dataFrame from the dataset: region, date and average price\n",
    "F1 = df[['date', 'region', 'averagePrice']]\n",
    "F1.head()"
   ]
  },
  {
   "cell_type": "code",
   "execution_count": 23,
   "id": "276790f0",
   "metadata": {},
   "outputs": [
    {
     "name": "stderr",
     "output_type": "stream",
     "text": [
      "C:\\Users\\peace\\AppData\\Local\\Temp\\ipykernel_25120\\912817392.py:3: SettingWithCopyWarning: \n",
      "A value is trying to be set on a copy of a slice from a DataFrame\n",
      "\n",
      "See the caveats in the documentation: https://pandas.pydata.org/pandas-docs/stable/user_guide/indexing.html#returning-a-view-versus-a-copy\n",
      "  F1.loc['avgPrice_difference'] = F1['averagePrice'].diff(1)\n"
     ]
    },
    {
     "data": {
      "text/html": [
       "<div>\n",
       "<style scoped>\n",
       "    .dataframe tbody tr th:only-of-type {\n",
       "        vertical-align: middle;\n",
       "    }\n",
       "\n",
       "    .dataframe tbody tr th {\n",
       "        vertical-align: top;\n",
       "    }\n",
       "\n",
       "    .dataframe thead th {\n",
       "        text-align: right;\n",
       "    }\n",
       "</style>\n",
       "<table border=\"1\" class=\"dataframe\">\n",
       "  <thead>\n",
       "    <tr style=\"text-align: right;\">\n",
       "      <th></th>\n",
       "      <th>date</th>\n",
       "      <th>region</th>\n",
       "      <th>averagePrice</th>\n",
       "    </tr>\n",
       "  </thead>\n",
       "  <tbody>\n",
       "    <tr>\n",
       "      <th>0</th>\n",
       "      <td>2018-12-13</td>\n",
       "      <td>Peterborough</td>\n",
       "      <td>1.41</td>\n",
       "    </tr>\n",
       "    <tr>\n",
       "      <th>1</th>\n",
       "      <td>2018-12-20</td>\n",
       "      <td>Peterborough</td>\n",
       "      <td>1.32</td>\n",
       "    </tr>\n",
       "    <tr>\n",
       "      <th>2</th>\n",
       "      <td>2018-10-20</td>\n",
       "      <td>Peterborough</td>\n",
       "      <td>0.89</td>\n",
       "    </tr>\n",
       "    <tr>\n",
       "      <th>4</th>\n",
       "      <td>2018-11-11</td>\n",
       "      <td>Ipswich</td>\n",
       "      <td>1.22</td>\n",
       "    </tr>\n",
       "    <tr>\n",
       "      <th>5</th>\n",
       "      <td>2018-11-17</td>\n",
       "      <td>Ipswich</td>\n",
       "      <td>1.09</td>\n",
       "    </tr>\n",
       "  </tbody>\n",
       "</table>\n",
       "</div>"
      ],
      "text/plain": [
       "        date        region  averagePrice\n",
       "0 2018-12-13  Peterborough          1.41\n",
       "1 2018-12-20  Peterborough          1.32\n",
       "2 2018-10-20  Peterborough          0.89\n",
       "4 2018-11-11       Ipswich          1.22\n",
       "5 2018-11-17       Ipswich          1.09"
      ]
     },
     "execution_count": 23,
     "metadata": {},
     "output_type": "execute_result"
    }
   ],
   "source": [
    "# Comparison of each column to the previous column\n",
    "# Create a new column \"average price difference\" in F1 dataframe and isolate averagePrice column to show the difference \n",
    "F1.loc['avgPrice_difference'] = F1['averagePrice'].diff(1)\n",
    "F1.head()"
   ]
  },
  {
   "cell_type": "markdown",
   "id": "f30961d4",
   "metadata": {},
   "source": [
    "### Year to Year Comparison\n",
    "The average price for each year shall be compared through percentage difference and the average difference."
   ]
  },
  {
   "cell_type": "code",
   "execution_count": 24,
   "id": "54fd85c1",
   "metadata": {},
   "outputs": [],
   "source": [
    "# Create a year dataframe\n",
    "year_df = F1.copy()"
   ]
  },
  {
   "cell_type": "code",
   "execution_count": 25,
   "id": "f10e789f",
   "metadata": {},
   "outputs": [
    {
     "data": {
      "text/html": [
       "<div>\n",
       "<style scoped>\n",
       "    .dataframe tbody tr th:only-of-type {\n",
       "        vertical-align: middle;\n",
       "    }\n",
       "\n",
       "    .dataframe tbody tr th {\n",
       "        vertical-align: top;\n",
       "    }\n",
       "\n",
       "    .dataframe thead th {\n",
       "        text-align: right;\n",
       "    }\n",
       "</style>\n",
       "<table border=\"1\" class=\"dataframe\">\n",
       "  <thead>\n",
       "    <tr style=\"text-align: right;\">\n",
       "      <th></th>\n",
       "      <th>date</th>\n",
       "      <th>region</th>\n",
       "      <th>averagePrice</th>\n",
       "      <th>year</th>\n",
       "    </tr>\n",
       "  </thead>\n",
       "  <tbody>\n",
       "    <tr>\n",
       "      <th>0</th>\n",
       "      <td>2018-12-13</td>\n",
       "      <td>Peterborough</td>\n",
       "      <td>1.41</td>\n",
       "      <td>2018.0</td>\n",
       "    </tr>\n",
       "    <tr>\n",
       "      <th>1</th>\n",
       "      <td>2018-12-20</td>\n",
       "      <td>Peterborough</td>\n",
       "      <td>1.32</td>\n",
       "      <td>2018.0</td>\n",
       "    </tr>\n",
       "  </tbody>\n",
       "</table>\n",
       "</div>"
      ],
      "text/plain": [
       "        date        region  averagePrice    year\n",
       "0 2018-12-13  Peterborough          1.41  2018.0\n",
       "1 2018-12-20  Peterborough          1.32  2018.0"
      ]
     },
     "execution_count": 25,
     "metadata": {},
     "output_type": "execute_result"
    }
   ],
   "source": [
    "# Create a new column in the year dataframe \"year_df\" and feel the column with the year\n",
    "year_df['year'] = year_df['date'].dt.year\n",
    "year_df.head(2)"
   ]
  },
  {
   "cell_type": "code",
   "execution_count": 26,
   "id": "464a9249-4126-40a0-b5e6-278a80025738",
   "metadata": {},
   "outputs": [],
   "source": [
    "#Convert Year to integer\n",
    "year_df['year'] = np.nan_to_num(year_df['year'])\n",
    "year_df['year'] = year_df['year'].astype(int)"
   ]
  },
  {
   "cell_type": "code",
   "execution_count": 27,
   "id": "61b08b9b",
   "metadata": {},
   "outputs": [
    {
     "data": {
      "text/html": [
       "<div>\n",
       "<style scoped>\n",
       "    .dataframe tbody tr th:only-of-type {\n",
       "        vertical-align: middle;\n",
       "    }\n",
       "\n",
       "    .dataframe tbody tr th {\n",
       "        vertical-align: top;\n",
       "    }\n",
       "\n",
       "    .dataframe thead th {\n",
       "        text-align: right;\n",
       "    }\n",
       "</style>\n",
       "<table border=\"1\" class=\"dataframe\">\n",
       "  <thead>\n",
       "    <tr style=\"text-align: right;\">\n",
       "      <th></th>\n",
       "      <th>year</th>\n",
       "      <th>averagePrice</th>\n",
       "    </tr>\n",
       "  </thead>\n",
       "  <tbody>\n",
       "    <tr>\n",
       "      <th>0</th>\n",
       "      <td>0</td>\n",
       "      <td>NaN</td>\n",
       "    </tr>\n",
       "    <tr>\n",
       "      <th>1</th>\n",
       "      <td>2018</td>\n",
       "      <td>1.312778</td>\n",
       "    </tr>\n",
       "    <tr>\n",
       "      <th>2</th>\n",
       "      <td>2019</td>\n",
       "      <td>1.258824</td>\n",
       "    </tr>\n",
       "    <tr>\n",
       "      <th>3</th>\n",
       "      <td>2020</td>\n",
       "      <td>1.348857</td>\n",
       "    </tr>\n",
       "    <tr>\n",
       "      <th>4</th>\n",
       "      <td>2021</td>\n",
       "      <td>1.273143</td>\n",
       "    </tr>\n",
       "    <tr>\n",
       "      <th>5</th>\n",
       "      <td>2022</td>\n",
       "      <td>1.334688</td>\n",
       "    </tr>\n",
       "  </tbody>\n",
       "</table>\n",
       "</div>"
      ],
      "text/plain": [
       "   year  averagePrice\n",
       "0     0           NaN\n",
       "1  2018      1.312778\n",
       "2  2019      1.258824\n",
       "3  2020      1.348857\n",
       "4  2021      1.273143\n",
       "5  2022      1.334688"
      ]
     },
     "execution_count": 27,
     "metadata": {},
     "output_type": "execute_result"
    }
   ],
   "source": [
    "# Now group each year and reset the index for a better presentation\n",
    "year_df = year_df.groupby('year')['averagePrice'].mean().reset_index()\n",
    "year_df"
   ]
  },
  {
   "cell_type": "code",
   "execution_count": 28,
   "id": "5e2724b9",
   "metadata": {},
   "outputs": [
    {
     "data": {
      "text/html": [
       "<div>\n",
       "<style scoped>\n",
       "    .dataframe tbody tr th:only-of-type {\n",
       "        vertical-align: middle;\n",
       "    }\n",
       "\n",
       "    .dataframe tbody tr th {\n",
       "        vertical-align: top;\n",
       "    }\n",
       "\n",
       "    .dataframe thead th {\n",
       "        text-align: right;\n",
       "    }\n",
       "</style>\n",
       "<table border=\"1\" class=\"dataframe\">\n",
       "  <thead>\n",
       "    <tr style=\"text-align: right;\">\n",
       "      <th></th>\n",
       "      <th>year</th>\n",
       "      <th>averagePrice</th>\n",
       "      <th>YoY_average_Price_diff</th>\n",
       "    </tr>\n",
       "  </thead>\n",
       "  <tbody>\n",
       "    <tr>\n",
       "      <th>0</th>\n",
       "      <td>0</td>\n",
       "      <td>NaN</td>\n",
       "      <td>NaN</td>\n",
       "    </tr>\n",
       "    <tr>\n",
       "      <th>1</th>\n",
       "      <td>2018</td>\n",
       "      <td>1.312778</td>\n",
       "      <td>NaN</td>\n",
       "    </tr>\n",
       "    <tr>\n",
       "      <th>2</th>\n",
       "      <td>2019</td>\n",
       "      <td>1.258824</td>\n",
       "      <td>-0.053954</td>\n",
       "    </tr>\n",
       "    <tr>\n",
       "      <th>3</th>\n",
       "      <td>2020</td>\n",
       "      <td>1.348857</td>\n",
       "      <td>0.090034</td>\n",
       "    </tr>\n",
       "    <tr>\n",
       "      <th>4</th>\n",
       "      <td>2021</td>\n",
       "      <td>1.273143</td>\n",
       "      <td>-0.075714</td>\n",
       "    </tr>\n",
       "    <tr>\n",
       "      <th>5</th>\n",
       "      <td>2022</td>\n",
       "      <td>1.334688</td>\n",
       "      <td>0.061545</td>\n",
       "    </tr>\n",
       "  </tbody>\n",
       "</table>\n",
       "</div>"
      ],
      "text/plain": [
       "   year  averagePrice  YoY_average_Price_diff\n",
       "0     0           NaN                     NaN\n",
       "1  2018      1.312778                     NaN\n",
       "2  2019      1.258824               -0.053954\n",
       "3  2020      1.348857                0.090034\n",
       "4  2021      1.273143               -0.075714\n",
       "5  2022      1.334688                0.061545"
      ]
     },
     "execution_count": 28,
     "metadata": {},
     "output_type": "execute_result"
    }
   ],
   "source": [
    "# Create a new column in the year_df dataframe and show the average price difference for the grouped years\n",
    "year_df['YoY_average_Price_diff'] = year_df['averagePrice'].diff()\n",
    "year_df"
   ]
  },
  {
   "cell_type": "markdown",
   "id": "76e8a1d1",
   "metadata": {},
   "source": [
    "##### Average Price Difference of the years\n",
    "The average_price_diff column indicates the average price difference between the years. To know the average price difference of 2018, the year 2017 average price must be known. However, 2019 average price difference indicates that the average price dropped by -0.054 when compared to the year 2018. "
   ]
  },
  {
   "cell_type": "markdown",
   "id": "336cb490",
   "metadata": {},
   "source": [
    "##### YoY Percentage Difference\n",
    "The column YoY_%_diff shows the percentage difference between the years. In the year 2021 the price changed by -4.88% while in the year 2022, the price increase by 7.17%."
   ]
  },
  {
   "cell_type": "code",
   "execution_count": 29,
   "id": "72a7b42f",
   "metadata": {},
   "outputs": [
    {
     "data": {
      "text/html": [
       "<div>\n",
       "<style scoped>\n",
       "    .dataframe tbody tr th:only-of-type {\n",
       "        vertical-align: middle;\n",
       "    }\n",
       "\n",
       "    .dataframe tbody tr th {\n",
       "        vertical-align: top;\n",
       "    }\n",
       "\n",
       "    .dataframe thead th {\n",
       "        text-align: right;\n",
       "    }\n",
       "</style>\n",
       "<table border=\"1\" class=\"dataframe\">\n",
       "  <thead>\n",
       "    <tr style=\"text-align: right;\">\n",
       "      <th></th>\n",
       "      <th>year</th>\n",
       "      <th>averagePrice</th>\n",
       "      <th>YoY_average_Price_diff</th>\n",
       "      <th>YoY_%_diff</th>\n",
       "    </tr>\n",
       "  </thead>\n",
       "  <tbody>\n",
       "    <tr>\n",
       "      <th>0</th>\n",
       "      <td>0</td>\n",
       "      <td>NaN</td>\n",
       "      <td>NaN</td>\n",
       "      <td>nan%</td>\n",
       "    </tr>\n",
       "    <tr>\n",
       "      <th>1</th>\n",
       "      <td>2018</td>\n",
       "      <td>1.312778</td>\n",
       "      <td>NaN</td>\n",
       "      <td>nan%</td>\n",
       "    </tr>\n",
       "    <tr>\n",
       "      <th>2</th>\n",
       "      <td>2019</td>\n",
       "      <td>1.258824</td>\n",
       "      <td>-0.053954</td>\n",
       "      <td>-4.29%</td>\n",
       "    </tr>\n",
       "    <tr>\n",
       "      <th>3</th>\n",
       "      <td>2020</td>\n",
       "      <td>1.348857</td>\n",
       "      <td>0.090034</td>\n",
       "      <td>6.67%</td>\n",
       "    </tr>\n",
       "    <tr>\n",
       "      <th>4</th>\n",
       "      <td>2021</td>\n",
       "      <td>1.273143</td>\n",
       "      <td>-0.075714</td>\n",
       "      <td>-5.95%</td>\n",
       "    </tr>\n",
       "  </tbody>\n",
       "</table>\n",
       "</div>"
      ],
      "text/plain": [
       "   year  averagePrice  YoY_average_Price_diff YoY_%_diff\n",
       "0     0           NaN                     NaN       nan%\n",
       "1  2018      1.312778                     NaN       nan%\n",
       "2  2019      1.258824               -0.053954     -4.29%\n",
       "3  2020      1.348857                0.090034      6.67%\n",
       "4  2021      1.273143               -0.075714     -5.95%"
      ]
     },
     "execution_count": 29,
     "metadata": {},
     "output_type": "execute_result"
    }
   ],
   "source": [
    "# Create a new column in the year_df dataframe and show the average price of the YoY \n",
    "# percentage difference\n",
    "\n",
    "year_df['YoY_%_diff'] = round(year_df['YoY_average_Price_diff']/\n",
    "                              year_df['averagePrice']*100,2).astype(str) + '%'\n",
    "year_df.head()"
   ]
  },
  {
   "cell_type": "code",
   "execution_count": 30,
   "id": "263ab903",
   "metadata": {},
   "outputs": [
    {
     "data": {
      "text/plain": [
       "Text(0.5, 1.0, 'Average price difference of the years')"
      ]
     },
     "execution_count": 30,
     "metadata": {},
     "output_type": "execute_result"
    },
    {
     "data": {
      "image/png": "[encoded data removed]",
      "text/plain": [
       "<Figure size 1000x400 with 1 Axes>"
      ]
     },
     "metadata": {},
     "output_type": "display_data"
    }
   ],
   "source": [
    "# Bar plot: average price difference of the years\n",
    "plt.figure(figsize=(10,4))\n",
    "sns.barplot(data=year_df, x='year', y='YoY_average_Price_diff', hue='YoY_%_diff')\n",
    "plt.title('Average price difference of the years')"
   ]
  },
  {
   "cell_type": "code",
   "execution_count": 31,
   "id": "88424f96",
   "metadata": {},
   "outputs": [
    {
     "data": {
      "text/plain": [
       "Text(0.5, 1.0, 'The average price difference of the year')"
      ]
     },
     "execution_count": 31,
     "metadata": {},
     "output_type": "execute_result"
    },
    {
     "data": {
      "image/png": "[encoded data removed]",
      "text/plain": [
       "<Figure size 1000x300 with 1 Axes>"
      ]
     },
     "metadata": {},
     "output_type": "display_data"
    }
   ],
   "source": [
    "# The average price difference of the year'\n",
    "plt.figure(figsize=(10,3))\n",
    "sns.pointplot(data=year_df, x='year', y='YoY_average_Price_diff', hue='year', palette='Set2')\n",
    "plt.title('The average price difference of the year')"
   ]
  },
  {
   "cell_type": "markdown",
   "id": "5a49c3a0",
   "metadata": {},
   "source": [
    "### Month to Month comparison\n",
    "The average price for each month in the dataframe shall be compared in percentage difference and the average difference of each month."
   ]
  },
  {
   "cell_type": "code",
   "execution_count": 32,
   "id": "cf87cbe0",
   "metadata": {},
   "outputs": [
    {
     "data": {
      "text/html": [
       "<div>\n",
       "<style scoped>\n",
       "    .dataframe tbody tr th:only-of-type {\n",
       "        vertical-align: middle;\n",
       "    }\n",
       "\n",
       "    .dataframe tbody tr th {\n",
       "        vertical-align: top;\n",
       "    }\n",
       "\n",
       "    .dataframe thead th {\n",
       "        text-align: right;\n",
       "    }\n",
       "</style>\n",
       "<table border=\"1\" class=\"dataframe\">\n",
       "  <thead>\n",
       "    <tr style=\"text-align: right;\">\n",
       "      <th></th>\n",
       "      <th>date</th>\n",
       "      <th>region</th>\n",
       "      <th>averagePrice</th>\n",
       "    </tr>\n",
       "  </thead>\n",
       "  <tbody>\n",
       "    <tr>\n",
       "      <th>0</th>\n",
       "      <td>2018-12-13</td>\n",
       "      <td>Peterborough</td>\n",
       "      <td>1.41</td>\n",
       "    </tr>\n",
       "  </tbody>\n",
       "</table>\n",
       "</div>"
      ],
      "text/plain": [
       "        date        region  averagePrice\n",
       "0 2018-12-13  Peterborough          1.41"
      ]
     },
     "execution_count": 32,
     "metadata": {},
     "output_type": "execute_result"
    }
   ],
   "source": [
    "# Create a new dataframe\n",
    "month_df = F1.copy()\n",
    "month_df.head(1)"
   ]
  },
  {
   "cell_type": "code",
   "execution_count": 33,
   "id": "57262a9d",
   "metadata": {},
   "outputs": [
    {
     "data": {
      "text/html": [
       "<div>\n",
       "<style scoped>\n",
       "    .dataframe tbody tr th:only-of-type {\n",
       "        vertical-align: middle;\n",
       "    }\n",
       "\n",
       "    .dataframe tbody tr th {\n",
       "        vertical-align: top;\n",
       "    }\n",
       "\n",
       "    .dataframe thead th {\n",
       "        text-align: right;\n",
       "    }\n",
       "</style>\n",
       "<table border=\"1\" class=\"dataframe\">\n",
       "  <thead>\n",
       "    <tr style=\"text-align: right;\">\n",
       "      <th></th>\n",
       "      <th>date</th>\n",
       "      <th>region</th>\n",
       "      <th>averagePrice</th>\n",
       "      <th>year</th>\n",
       "    </tr>\n",
       "  </thead>\n",
       "  <tbody>\n",
       "    <tr>\n",
       "      <th>0</th>\n",
       "      <td>2018-12-13</td>\n",
       "      <td>Peterborough</td>\n",
       "      <td>1.41</td>\n",
       "      <td>2018.0</td>\n",
       "    </tr>\n",
       "  </tbody>\n",
       "</table>\n",
       "</div>"
      ],
      "text/plain": [
       "        date        region  averagePrice    year\n",
       "0 2018-12-13  Peterborough          1.41  2018.0"
      ]
     },
     "execution_count": 33,
     "metadata": {},
     "output_type": "execute_result"
    }
   ],
   "source": [
    "# create a column and fill the column with years\n",
    "month_df['year'] = month_df['date'].dt.year\n",
    "month_df.head(1)"
   ]
  },
  {
   "cell_type": "code",
   "execution_count": 34,
   "id": "dc045ea9-16c5-4128-a82c-fdf809e6ee30",
   "metadata": {},
   "outputs": [],
   "source": [
    "# Convert NAN to number (0) and then change datatype to integer\n",
    "month_df['year'] = np.nan_to_num(month_df['year']).astype(int)"
   ]
  },
  {
   "cell_type": "code",
   "execution_count": 35,
   "id": "a83edabf",
   "metadata": {},
   "outputs": [
    {
     "data": {
      "text/html": [
       "<div>\n",
       "<style scoped>\n",
       "    .dataframe tbody tr th:only-of-type {\n",
       "        vertical-align: middle;\n",
       "    }\n",
       "\n",
       "    .dataframe tbody tr th {\n",
       "        vertical-align: top;\n",
       "    }\n",
       "\n",
       "    .dataframe thead th {\n",
       "        text-align: right;\n",
       "    }\n",
       "</style>\n",
       "<table border=\"1\" class=\"dataframe\">\n",
       "  <thead>\n",
       "    <tr style=\"text-align: right;\">\n",
       "      <th></th>\n",
       "      <th>date</th>\n",
       "      <th>region</th>\n",
       "      <th>averagePrice</th>\n",
       "      <th>year</th>\n",
       "      <th>month</th>\n",
       "    </tr>\n",
       "  </thead>\n",
       "  <tbody>\n",
       "    <tr>\n",
       "      <th>0</th>\n",
       "      <td>2018-12-13</td>\n",
       "      <td>Peterborough</td>\n",
       "      <td>1.41</td>\n",
       "      <td>2018</td>\n",
       "      <td>12.0</td>\n",
       "    </tr>\n",
       "  </tbody>\n",
       "</table>\n",
       "</div>"
      ],
      "text/plain": [
       "        date        region  averagePrice  year  month\n",
       "0 2018-12-13  Peterborough          1.41  2018   12.0"
      ]
     },
     "execution_count": 35,
     "metadata": {},
     "output_type": "execute_result"
    }
   ],
   "source": [
    "# create a column and fill the column with months\n",
    "month_df['month'] = month_df['date'].dt.month\n",
    "month_df.head(1)"
   ]
  },
  {
   "cell_type": "code",
   "execution_count": 36,
   "id": "cab7d16b",
   "metadata": {},
   "outputs": [
    {
     "data": {
      "text/html": [
       "<div>\n",
       "<style scoped>\n",
       "    .dataframe tbody tr th:only-of-type {\n",
       "        vertical-align: middle;\n",
       "    }\n",
       "\n",
       "    .dataframe tbody tr th {\n",
       "        vertical-align: top;\n",
       "    }\n",
       "\n",
       "    .dataframe thead th {\n",
       "        text-align: right;\n",
       "    }\n",
       "</style>\n",
       "<table border=\"1\" class=\"dataframe\">\n",
       "  <thead>\n",
       "    <tr style=\"text-align: right;\">\n",
       "      <th></th>\n",
       "      <th>year</th>\n",
       "      <th>month</th>\n",
       "      <th>averagePrice</th>\n",
       "    </tr>\n",
       "  </thead>\n",
       "  <tbody>\n",
       "    <tr>\n",
       "      <th>0</th>\n",
       "      <td>2018</td>\n",
       "      <td>1.0</td>\n",
       "      <td>1.432000</td>\n",
       "    </tr>\n",
       "    <tr>\n",
       "      <th>1</th>\n",
       "      <td>2018</td>\n",
       "      <td>2.0</td>\n",
       "      <td>1.206667</td>\n",
       "    </tr>\n",
       "    <tr>\n",
       "      <th>2</th>\n",
       "      <td>2018</td>\n",
       "      <td>3.0</td>\n",
       "      <td>1.610000</td>\n",
       "    </tr>\n",
       "    <tr>\n",
       "      <th>3</th>\n",
       "      <td>2018</td>\n",
       "      <td>4.0</td>\n",
       "      <td>1.214000</td>\n",
       "    </tr>\n",
       "    <tr>\n",
       "      <th>4</th>\n",
       "      <td>2018</td>\n",
       "      <td>5.0</td>\n",
       "      <td>1.298000</td>\n",
       "    </tr>\n",
       "  </tbody>\n",
       "</table>\n",
       "</div>"
      ],
      "text/plain": [
       "   year  month  averagePrice\n",
       "0  2018    1.0      1.432000\n",
       "1  2018    2.0      1.206667\n",
       "2  2018    3.0      1.610000\n",
       "3  2018    4.0      1.214000\n",
       "4  2018    5.0      1.298000"
      ]
     },
     "execution_count": 36,
     "metadata": {},
     "output_type": "execute_result"
    }
   ],
   "source": [
    "# Group and reset the index for a better presentation\n",
    "month_df = month_df.groupby(['year', 'month'])['averagePrice'].mean().reset_index()\n",
    "month_df.head()"
   ]
  },
  {
   "cell_type": "code",
   "execution_count": 37,
   "id": "3908d837",
   "metadata": {},
   "outputs": [
    {
     "data": {
      "text/html": [
       "<div>\n",
       "<style scoped>\n",
       "    .dataframe tbody tr th:only-of-type {\n",
       "        vertical-align: middle;\n",
       "    }\n",
       "\n",
       "    .dataframe tbody tr th {\n",
       "        vertical-align: top;\n",
       "    }\n",
       "\n",
       "    .dataframe thead th {\n",
       "        text-align: right;\n",
       "    }\n",
       "</style>\n",
       "<table border=\"1\" class=\"dataframe\">\n",
       "  <thead>\n",
       "    <tr style=\"text-align: right;\">\n",
       "      <th></th>\n",
       "      <th>year</th>\n",
       "      <th>month</th>\n",
       "      <th>averagePrice</th>\n",
       "      <th>MoM_avgPrice_diff</th>\n",
       "    </tr>\n",
       "  </thead>\n",
       "  <tbody>\n",
       "    <tr>\n",
       "      <th>0</th>\n",
       "      <td>2018</td>\n",
       "      <td>1.0</td>\n",
       "      <td>1.432000</td>\n",
       "      <td>NaN</td>\n",
       "    </tr>\n",
       "    <tr>\n",
       "      <th>1</th>\n",
       "      <td>2018</td>\n",
       "      <td>2.0</td>\n",
       "      <td>1.206667</td>\n",
       "      <td>-0.225333</td>\n",
       "    </tr>\n",
       "    <tr>\n",
       "      <th>2</th>\n",
       "      <td>2018</td>\n",
       "      <td>3.0</td>\n",
       "      <td>1.610000</td>\n",
       "      <td>0.403333</td>\n",
       "    </tr>\n",
       "    <tr>\n",
       "      <th>3</th>\n",
       "      <td>2018</td>\n",
       "      <td>4.0</td>\n",
       "      <td>1.214000</td>\n",
       "      <td>-0.396000</td>\n",
       "    </tr>\n",
       "    <tr>\n",
       "      <th>4</th>\n",
       "      <td>2018</td>\n",
       "      <td>5.0</td>\n",
       "      <td>1.298000</td>\n",
       "      <td>0.084000</td>\n",
       "    </tr>\n",
       "  </tbody>\n",
       "</table>\n",
       "</div>"
      ],
      "text/plain": [
       "   year  month  averagePrice  MoM_avgPrice_diff\n",
       "0  2018    1.0      1.432000                NaN\n",
       "1  2018    2.0      1.206667          -0.225333\n",
       "2  2018    3.0      1.610000           0.403333\n",
       "3  2018    4.0      1.214000          -0.396000\n",
       "4  2018    5.0      1.298000           0.084000"
      ]
     },
     "execution_count": 37,
     "metadata": {},
     "output_type": "execute_result"
    }
   ],
   "source": [
    "# Create a new column in the month_df dataframe and show the average price difference for the group \n",
    "# of month\n",
    "month_df['MoM_avgPrice_diff'] = month_df['averagePrice'].diff()\n",
    "month_df.head()"
   ]
  },
  {
   "cell_type": "markdown",
   "id": "7bc155db",
   "metadata": {},
   "source": [
    "#### Average Price Difference of the month\n",
    "The column MoM_avgPrice_diff shows the average price difference between the months. In the month of February (2), the average price was -0,2253, while in the the month March (3), the average price changed to 0.4033."
   ]
  },
  {
   "cell_type": "code",
   "execution_count": 38,
   "id": "917c4d1c",
   "metadata": {},
   "outputs": [
    {
     "data": {
      "text/html": [
       "<div>\n",
       "<style scoped>\n",
       "    .dataframe tbody tr th:only-of-type {\n",
       "        vertical-align: middle;\n",
       "    }\n",
       "\n",
       "    .dataframe tbody tr th {\n",
       "        vertical-align: top;\n",
       "    }\n",
       "\n",
       "    .dataframe thead th {\n",
       "        text-align: right;\n",
       "    }\n",
       "</style>\n",
       "<table border=\"1\" class=\"dataframe\">\n",
       "  <thead>\n",
       "    <tr style=\"text-align: right;\">\n",
       "      <th></th>\n",
       "      <th>year</th>\n",
       "      <th>month</th>\n",
       "      <th>averagePrice</th>\n",
       "      <th>MoM_avgPrice_diff</th>\n",
       "      <th>MoM_%_diff</th>\n",
       "    </tr>\n",
       "  </thead>\n",
       "  <tbody>\n",
       "    <tr>\n",
       "      <th>0</th>\n",
       "      <td>2018</td>\n",
       "      <td>1.0</td>\n",
       "      <td>1.432000</td>\n",
       "      <td>NaN</td>\n",
       "      <td>nan%</td>\n",
       "    </tr>\n",
       "    <tr>\n",
       "      <th>1</th>\n",
       "      <td>2018</td>\n",
       "      <td>2.0</td>\n",
       "      <td>1.206667</td>\n",
       "      <td>-0.225333</td>\n",
       "      <td>-18.67%</td>\n",
       "    </tr>\n",
       "    <tr>\n",
       "      <th>2</th>\n",
       "      <td>2018</td>\n",
       "      <td>3.0</td>\n",
       "      <td>1.610000</td>\n",
       "      <td>0.403333</td>\n",
       "      <td>25.05%</td>\n",
       "    </tr>\n",
       "    <tr>\n",
       "      <th>3</th>\n",
       "      <td>2018</td>\n",
       "      <td>4.0</td>\n",
       "      <td>1.214000</td>\n",
       "      <td>-0.396000</td>\n",
       "      <td>-32.62%</td>\n",
       "    </tr>\n",
       "    <tr>\n",
       "      <th>4</th>\n",
       "      <td>2018</td>\n",
       "      <td>5.0</td>\n",
       "      <td>1.298000</td>\n",
       "      <td>0.084000</td>\n",
       "      <td>6.47%</td>\n",
       "    </tr>\n",
       "  </tbody>\n",
       "</table>\n",
       "</div>"
      ],
      "text/plain": [
       "   year  month  averagePrice  MoM_avgPrice_diff MoM_%_diff\n",
       "0  2018    1.0      1.432000                NaN       nan%\n",
       "1  2018    2.0      1.206667          -0.225333    -18.67%\n",
       "2  2018    3.0      1.610000           0.403333     25.05%\n",
       "3  2018    4.0      1.214000          -0.396000    -32.62%\n",
       "4  2018    5.0      1.298000           0.084000      6.47%"
      ]
     },
     "execution_count": 38,
     "metadata": {},
     "output_type": "execute_result"
    }
   ],
   "source": [
    "# Create a new column in the month_df dataframe and show the average price of the MoM \n",
    "# percentage difference\n",
    "\n",
    "month_df['MoM_%_diff'] = round(month_df['MoM_avgPrice_diff']/month_df['averagePrice']*100,2).astype(str) + '%'\n",
    "month_df.head()"
   ]
  },
  {
   "cell_type": "markdown",
   "id": "5f995539",
   "metadata": {},
   "source": [
    "#### MoM Percentage Difference\n",
    "The column MoM_%_diff shows the percentage difference between the months. In the month of February (2), the average price -18.67% while in the the month March, the average price changed to 25.05%."
   ]
  },
  {
   "cell_type": "code",
   "execution_count": 39,
   "id": "a68f4bfe-2b28-4ca8-8f3a-9c1d8c34d5d4",
   "metadata": {},
   "outputs": [
    {
     "data": {
      "text/plain": [
       "Text(0.5, 1.0, 'Average price difference of the months')"
      ]
     },
     "execution_count": 39,
     "metadata": {},
     "output_type": "execute_result"
    },
    {
     "data": {
      "image/png": "[encoded data removed]",
      "text/plain": [
       "<Figure size 1300x500 with 1 Axes>"
      ]
     },
     "metadata": {},
     "output_type": "display_data"
    }
   ],
   "source": [
    "# show the changes in each month of the year with Bar chart\n",
    "plt.figure(figsize=(13,5))\n",
    "sns.barplot(data=month_df, x='month', y='MoM_avgPrice_diff', hue='year', palette='Set2')\n",
    "plt.title('Average price difference of the months')"
   ]
  },
  {
   "cell_type": "code",
   "execution_count": 40,
   "id": "f8379224",
   "metadata": {},
   "outputs": [],
   "source": [
    "# Plot a pie chart to show the average monthly difference price of each year\n",
    "\n",
    "#fig5 = px.pie(month_df, values='month', names='MoM_%_diff', color='year', opacity=0.9)\n",
    "#fig5.show()"
   ]
  },
  {
   "cell_type": "code",
   "execution_count": 41,
   "id": "8990756f",
   "metadata": {},
   "outputs": [
    {
     "data": {
      "text/plain": [
       "Text(0.5, 1.0, 'Total Volume')"
      ]
     },
     "execution_count": 41,
     "metadata": {},
     "output_type": "execute_result"
    },
    {
     "data": {
      "image/png": "[encoded data removed]",
      "text/plain": [
       "<Figure size 1100x300 with 1 Axes>"
      ]
     },
     "metadata": {},
     "output_type": "display_data"
    }
   ],
   "source": [
    "# Show the point plot for each month of the year\n",
    "plt.figure(figsize=(11,3))\n",
    "sns.pointplot(data=month_df, x='month', y='MoM_avgPrice_diff', hue='year', palette='Set1')\n",
    "plt.title('Total Volume')"
   ]
  },
  {
   "cell_type": "code",
   "execution_count": null,
   "id": "77684466-404b-4927-9122-c1bb1e4c471a",
   "metadata": {},
   "outputs": [],
   "source": []
  }
 ],
 "metadata": {
  "kernelspec": {
   "display_name": "Python 3 (ipykernel)",
   "language": "python",
   "name": "python3"
  },
  "language_info": {
   "codemirror_mode": {
    "name": "ipython",
    "version": 3
   },
   "file_extension": ".py",
   "mimetype": "text/x-python",
   "name": "python",
   "nbconvert_exporter": "python",
   "pygments_lexer": "ipython3",
   "version": "3.9.13"
  }
 },
 "nbformat": 4,
 "nbformat_minor": 5
}
